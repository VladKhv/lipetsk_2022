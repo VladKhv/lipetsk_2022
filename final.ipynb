{
 "cells": [
  {
   "cell_type": "code",
   "execution_count": 1,
   "id": "1566427d",
   "metadata": {},
   "outputs": [],
   "source": [
    "import pandas as pd\n",
    "import seaborn as sns\n",
    "import matplotlib.pyplot as plt\n",
    "from sklearn.model_selection import train_test_split\n",
    "from sklearn.ensemble import RandomForestClassifier\n",
    "import numpy as np\n",
    "from lightgbm import LGBMRegressor, log_evaluation\n",
    "from lightgbm import LGBMClassifier\n",
    "from lightgbm import early_stopping\n",
    "from sklearn.model_selection import train_test_split, StratifiedKFold, KFold\n",
    "import gc\n",
    "from sklearn.metrics import r2_score\n",
    "from sklearn.feature_extraction.text import TfidfVectorizer\n",
    "from sklearn.feature_selection import mutual_info_classif, mutual_info_regression\n",
    "from sklearn.feature_selection import f_regression\n",
    "import tqdm\n",
    "\n",
    "%matplotlib inline\n",
    "\n",
    "import warnings\n",
    "warnings.simplefilter(action = 'ignore', category = FutureWarning)\n",
    "warnings.simplefilter(action = 'ignore', category = DeprecationWarning)\n",
    "warnings.simplefilter(action = 'ignore', category = UserWarning)\n",
    "warnings.simplefilter(action = 'ignore', category = RuntimeWarning)\n",
    "warnings.filterwarnings(\"ignore\", message = \"numpy.dtype size changed\")\n",
    "warnings.filterwarnings(\"ignore\", message = \"numpy.ufunc size changed\")\n",
    "pd.options.mode.chained_assignment = None\n",
    "\n",
    "from warnings import simplefilter\n",
    "simplefilter(action = \"ignore\", category = pd.errors.PerformanceWarning)\n",
    "\n",
    "target = 'object_img'"
   ]
  },
  {
   "cell_type": "code",
   "execution_count": 2,
   "id": "cf40279d",
   "metadata": {},
   "outputs": [
    {
     "data": {
      "text/html": [
       "<div>\n",
       "<style scoped>\n",
       "    .dataframe tbody tr th:only-of-type {\n",
       "        vertical-align: middle;\n",
       "    }\n",
       "\n",
       "    .dataframe tbody tr th {\n",
       "        vertical-align: top;\n",
       "    }\n",
       "\n",
       "    .dataframe thead th {\n",
       "        text-align: right;\n",
       "    }\n",
       "</style>\n",
       "<table border=\"1\" class=\"dataframe\">\n",
       "  <thead>\n",
       "    <tr style=\"text-align: right;\">\n",
       "      <th></th>\n",
       "      <th>id</th>\n",
       "      <th>description</th>\n",
       "      <th>object_img</th>\n",
       "    </tr>\n",
       "  </thead>\n",
       "  <tbody>\n",
       "    <tr>\n",
       "      <th>0</th>\n",
       "      <td>725</td>\n",
       "      <td>Монета ДМ/Н-1104 ПОКМ-3873/6 серебро; штамповк...</td>\n",
       "      <td>1</td>\n",
       "    </tr>\n",
       "    <tr>\n",
       "      <th>1</th>\n",
       "      <td>134</td>\n",
       "      <td>Монета ДМ/Н-1101 ПОКМ-3873/3 серебро; штамповк...</td>\n",
       "      <td>2</td>\n",
       "    </tr>\n",
       "    <tr>\n",
       "      <th>2</th>\n",
       "      <td>1617</td>\n",
       "      <td>Монета ДМ/Н-1100 ПОКМ-3873/2 серебро; штамповк...</td>\n",
       "      <td>3</td>\n",
       "    </tr>\n",
       "    <tr>\n",
       "      <th>3</th>\n",
       "      <td>646</td>\n",
       "      <td>Монета ДМ/Н-1103 ПОКМ-3873/5 серебро; штамповк...</td>\n",
       "      <td>4</td>\n",
       "    </tr>\n",
       "    <tr>\n",
       "      <th>4</th>\n",
       "      <td>705</td>\n",
       "      <td>Монета ДМ/Н-850 ПОКМ-11035/17 серебро; штампов...</td>\n",
       "      <td>5</td>\n",
       "    </tr>\n",
       "    <tr>\n",
       "      <th>5</th>\n",
       "      <td>2478</td>\n",
       "      <td>Монета ДМ/Н-1114 ПОКМ-3873/17 серебро; штампов...</td>\n",
       "      <td>6</td>\n",
       "    </tr>\n",
       "    <tr>\n",
       "      <th>6</th>\n",
       "      <td>1166</td>\n",
       "      <td>Монета ДМ/Н-1508 ПОКМ-16405/9 серебро; чеканка...</td>\n",
       "      <td>7</td>\n",
       "    </tr>\n",
       "    <tr>\n",
       "      <th>7</th>\n",
       "      <td>1843</td>\n",
       "      <td>Монета ДМ/Н-678 ПОКМ-10727/20 серебро; штампов...</td>\n",
       "      <td>10</td>\n",
       "    </tr>\n",
       "    <tr>\n",
       "      <th>8</th>\n",
       "      <td>2691</td>\n",
       "      <td>Монета ДМ/Н-168 ПОКМ-17597 серебро; штамповка ...</td>\n",
       "      <td>12</td>\n",
       "    </tr>\n",
       "    <tr>\n",
       "      <th>9</th>\n",
       "      <td>1967</td>\n",
       "      <td>Монета ДМ/Н-1203 ПОКМ-3882/6 серебро; штамповк...</td>\n",
       "      <td>15</td>\n",
       "    </tr>\n",
       "  </tbody>\n",
       "</table>\n",
       "</div>"
      ],
      "text/plain": [
       "     id                                        description  object_img\n",
       "0   725  Монета ДМ/Н-1104 ПОКМ-3873/6 серебро; штамповк...           1\n",
       "1   134  Монета ДМ/Н-1101 ПОКМ-3873/3 серебро; штамповк...           2\n",
       "2  1617  Монета ДМ/Н-1100 ПОКМ-3873/2 серебро; штамповк...           3\n",
       "3   646  Монета ДМ/Н-1103 ПОКМ-3873/5 серебро; штамповк...           4\n",
       "4   705  Монета ДМ/Н-850 ПОКМ-11035/17 серебро; штампов...           5\n",
       "5  2478  Монета ДМ/Н-1114 ПОКМ-3873/17 серебро; штампов...           6\n",
       "6  1166  Монета ДМ/Н-1508 ПОКМ-16405/9 серебро; чеканка...           7\n",
       "7  1843  Монета ДМ/Н-678 ПОКМ-10727/20 серебро; штампов...          10\n",
       "8  2691  Монета ДМ/Н-168 ПОКМ-17597 серебро; штамповка ...          12\n",
       "9  1967  Монета ДМ/Н-1203 ПОКМ-3882/6 серебро; штамповк...          15"
      ]
     },
     "execution_count": 2,
     "metadata": {},
     "output_type": "execute_result"
    }
   ],
   "source": [
    "dtrain = pd.read_csv(\n",
    "    \"../input/train.csv\",\n",
    ")\n",
    "dtrain.sort_values(by = [target], inplace = True)\n",
    "dtrain.reset_index(drop = True, inplace = True)\n",
    "dtrain.head(10)"
   ]
  },
  {
   "cell_type": "code",
   "execution_count": 3,
   "id": "60cc5b3d",
   "metadata": {},
   "outputs": [],
   "source": [
    "targets = sorted(dtrain[target].unique())"
   ]
  },
  {
   "cell_type": "code",
   "execution_count": 4,
   "id": "0b1249ff",
   "metadata": {},
   "outputs": [
    {
     "data": {
      "text/plain": [
       "(2098, 3)"
      ]
     },
     "execution_count": 4,
     "metadata": {},
     "output_type": "execute_result"
    }
   ],
   "source": [
    "dtrain.shape"
   ]
  },
  {
   "cell_type": "code",
   "execution_count": 5,
   "id": "f9f94298",
   "metadata": {},
   "outputs": [
    {
     "data": {
      "text/plain": [
       "2098"
      ]
     },
     "execution_count": 5,
     "metadata": {},
     "output_type": "execute_result"
    }
   ],
   "source": [
    "len(dtrain[target].unique())"
   ]
  },
  {
   "cell_type": "code",
   "execution_count": 6,
   "id": "2f450291",
   "metadata": {},
   "outputs": [],
   "source": [
    "dtest = pd.read_csv('../input/test.csv')"
   ]
  },
  {
   "cell_type": "markdown",
   "id": "b28b0632",
   "metadata": {},
   "source": [
    "# Векторизация данных (преобразование текста в частотные векторы)"
   ]
  },
  {
   "cell_type": "code",
   "execution_count": 7,
   "id": "80d93f7b",
   "metadata": {},
   "outputs": [
    {
     "data": {
      "text/plain": [
       "(2098, 1500)"
      ]
     },
     "execution_count": 7,
     "metadata": {},
     "output_type": "execute_result"
    }
   ],
   "source": [
    "vectorizer = TfidfVectorizer(\n",
    "    analyzer = 'word',\n",
    "    lowercase = True, \n",
    "    preprocessor = None, \n",
    "    tokenizer = None, \n",
    "    stop_words = None, \n",
    "    #token_pattern = None, \n",
    "    ngram_range = (1, 3), \n",
    "    #max_df = 1.0, \n",
    "    #min_df = 1, \n",
    "    max_features = 1500,\n",
    ")\n",
    "\n",
    "corpus = list(dtrain['description'].values)\n",
    "train = vectorizer.fit_transform(corpus)\n",
    "test  = vectorizer.transform(dtest['description'].values)\n",
    "#vectorizer.get_feature_names_out()\n",
    "train.shape"
   ]
  },
  {
   "cell_type": "code",
   "execution_count": 8,
   "id": "d9d50f93",
   "metadata": {},
   "outputs": [],
   "source": [
    "for i in range(train.shape[1]):\n",
    "    dtrain['v_' + str(i)] = train[:, i].toarray()\n",
    "    dtest['v_' + str(i)] = test[:, i].toarray()"
   ]
  },
  {
   "cell_type": "code",
   "execution_count": 9,
   "id": "ce42b724",
   "metadata": {},
   "outputs": [],
   "source": [
    "use = [f for f in dtrain.columns if f not in [\n",
    "    'id', 'description', target]\n",
    "      ]"
   ]
  },
  {
   "cell_type": "code",
   "execution_count": 10,
   "id": "314c8a85",
   "metadata": {},
   "outputs": [
    {
     "data": {
      "text/plain": [
       "0"
      ]
     },
     "execution_count": 10,
     "metadata": {},
     "output_type": "execute_result"
    }
   ],
   "source": [
    "temp = dtrain.copy()\n",
    "temp = pd.concat([dtrain, temp], ignore_index = True)\n",
    "temp = pd.concat([dtrain, temp], ignore_index = True)\n",
    "temp = pd.concat([dtrain, temp], ignore_index = True)\n",
    "temp = pd.concat([dtrain, temp], ignore_index = True)\n",
    "\n",
    "dtrain = temp\n",
    "dtrain.reset_index(drop = True, inplace = True)\n",
    "gc.collect()"
   ]
  },
  {
   "cell_type": "code",
   "execution_count": 11,
   "id": "5e1d7038",
   "metadata": {},
   "outputs": [
    {
     "data": {
      "text/plain": [
       "((8699, 1503), (1791, 1503))"
      ]
     },
     "execution_count": 11,
     "metadata": {},
     "output_type": "execute_result"
    }
   ],
   "source": [
    "X_train, X_val = train_test_split(\n",
    "    dtrain,\n",
    "    test_size = 0.1707, \n",
    "    random_state = 0,\n",
    ")\n",
    "X_train.shape, X_val.shape"
   ]
  },
  {
   "cell_type": "markdown",
   "id": "25645bf7",
   "metadata": {},
   "source": [
    "# Модель (Light Gradient Boosted Machine или LightGBM)"
   ]
  },
  {
   "cell_type": "code",
   "execution_count": 12,
   "id": "a192ffbd",
   "metadata": {},
   "outputs": [
    {
     "name": "stdout",
     "output_type": "stream",
     "text": [
      "Training until validation scores don't improve for 100 rounds\n",
      "[1500]\tvalid_0's metric: 0.999158\n",
      "[3000]\tvalid_0's metric: 0.999652\n",
      "[4500]\tvalid_0's metric: 0.999723\n",
      "Early stopping, best iteration is:\n",
      "[4870]\tvalid_0's metric: 0.999732\n",
      "Training until validation scores don't improve for 100 rounds\n",
      "[1500]\tvalid_0's metric: 0.999192\n",
      "[3000]\tvalid_0's metric: 0.999667\n",
      "Early stopping, best iteration is:\n",
      "[4155]\tvalid_0's metric: 0.999724\n",
      "Training until validation scores don't improve for 100 rounds\n",
      "[1500]\tvalid_0's metric: 0.99918\n",
      "[3000]\tvalid_0's metric: 0.999664\n",
      "[4500]\tvalid_0's metric: 0.999728\n",
      "Early stopping, best iteration is:\n",
      "[4680]\tvalid_0's metric: 0.999733\n"
     ]
    }
   ],
   "source": [
    "def lgb_metric(y_true, y_pred):\n",
    "    sc = r2_score(y_true, y_pred)\n",
    "    return 'metric', sc, True\n",
    "\n",
    "SEEDS = 3\n",
    "models = []\n",
    "\n",
    "params = {\n",
    "    'max_depth': 5, \n",
    "    'num_leaves': 31, \n",
    "    'learning_rate': 0.1, \n",
    "    'reg_alpha': 0.1, \n",
    "    'reg_lambda': 0.1, \n",
    "    'n_estimators': 5500, \n",
    "    'subsample': 0.99, \n",
    "    'subsample_freq': 5, \n",
    "    'colsample_bytree': 0.99, \n",
    "    'random_state': 0, \n",
    "    'verbose': -1, \n",
    "    'metric': 'custom',\n",
    "}\n",
    "\n",
    "for seed in range(SEEDS):\n",
    "    params['random_state'] = seed\n",
    "    model = LGBMRegressor(**params)\n",
    "    model.fit(\n",
    "        X_train[use].values,\n",
    "        X_train[target],\n",
    "        eval_set = (X_val[use].values, X_val[target]),\n",
    "        callbacks = [\n",
    "            early_stopping(100), \n",
    "            log_evaluation(1500)\n",
    "        ],\n",
    "        eval_metric = lgb_metric,\n",
    "    )\n",
    "    models.append(model)"
   ]
  },
  {
   "cell_type": "code",
   "execution_count": 13,
   "id": "75abe43a",
   "metadata": {},
   "outputs": [],
   "source": [
    "from scipy.stats import mode\n",
    "\n",
    "preds = []\n",
    "\n",
    "for model in models:\n",
    "    pr = model.predict(dtest[use])\n",
    "    preds.append(pr)\n",
    "    \n",
    "dtest[target] = mode(preds)[0][0]"
   ]
  },
  {
   "cell_type": "code",
   "execution_count": 14,
   "id": "15feec84",
   "metadata": {},
   "outputs": [],
   "source": [
    "dtest[target] = dtest[target].astype(int)\n",
    "\n",
    "dtest[['id', 'object_img']].to_csv('final.csv', index = False)"
   ]
  },
  {
   "cell_type": "code",
   "execution_count": 15,
   "id": "5db20fff",
   "metadata": {},
   "outputs": [
    {
     "data": {
      "text/html": [
       "<div>\n",
       "<style scoped>\n",
       "    .dataframe tbody tr th:only-of-type {\n",
       "        vertical-align: middle;\n",
       "    }\n",
       "\n",
       "    .dataframe tbody tr th {\n",
       "        vertical-align: top;\n",
       "    }\n",
       "\n",
       "    .dataframe thead th {\n",
       "        text-align: right;\n",
       "    }\n",
       "</style>\n",
       "<table border=\"1\" class=\"dataframe\">\n",
       "  <thead>\n",
       "    <tr style=\"text-align: right;\">\n",
       "      <th></th>\n",
       "      <th>id</th>\n",
       "      <th>object_img</th>\n",
       "    </tr>\n",
       "  </thead>\n",
       "  <tbody>\n",
       "    <tr>\n",
       "      <th>0</th>\n",
       "      <td>486</td>\n",
       "      <td>1202</td>\n",
       "    </tr>\n",
       "    <tr>\n",
       "      <th>1</th>\n",
       "      <td>813</td>\n",
       "      <td>1761</td>\n",
       "    </tr>\n",
       "    <tr>\n",
       "      <th>2</th>\n",
       "      <td>2980</td>\n",
       "      <td>1467</td>\n",
       "    </tr>\n",
       "    <tr>\n",
       "      <th>3</th>\n",
       "      <td>13</td>\n",
       "      <td>1203</td>\n",
       "    </tr>\n",
       "    <tr>\n",
       "      <th>4</th>\n",
       "      <td>2467</td>\n",
       "      <td>700</td>\n",
       "    </tr>\n",
       "  </tbody>\n",
       "</table>\n",
       "</div>"
      ],
      "text/plain": [
       "     id  object_img\n",
       "0   486        1202\n",
       "1   813        1761\n",
       "2  2980        1467\n",
       "3    13        1203\n",
       "4  2467         700"
      ]
     },
     "execution_count": 15,
     "metadata": {},
     "output_type": "execute_result"
    }
   ],
   "source": [
    "dtest[['id', 'object_img']].head()"
   ]
  },
  {
   "cell_type": "code",
   "execution_count": null,
   "id": "8fcfd735",
   "metadata": {},
   "outputs": [],
   "source": []
  },
  {
   "cell_type": "markdown",
   "id": "f17134a4",
   "metadata": {},
   "source": [
    "# Подготовка решения согласно требований от 05.10.2022 (остутсвие дублей и пересечения с тренировочными данными)"
   ]
  },
  {
   "cell_type": "code",
   "execution_count": 16,
   "id": "7661cffa",
   "metadata": {},
   "outputs": [
    {
     "data": {
      "text/html": [
       "<div>\n",
       "<style scoped>\n",
       "    .dataframe tbody tr th:only-of-type {\n",
       "        vertical-align: middle;\n",
       "    }\n",
       "\n",
       "    .dataframe tbody tr th {\n",
       "        vertical-align: top;\n",
       "    }\n",
       "\n",
       "    .dataframe thead th {\n",
       "        text-align: right;\n",
       "    }\n",
       "</style>\n",
       "<table border=\"1\" class=\"dataframe\">\n",
       "  <thead>\n",
       "    <tr style=\"text-align: right;\">\n",
       "      <th></th>\n",
       "      <th>id</th>\n",
       "      <th>object_img</th>\n",
       "    </tr>\n",
       "  </thead>\n",
       "  <tbody>\n",
       "    <tr>\n",
       "      <th>0</th>\n",
       "      <td>486</td>\n",
       "      <td>1202</td>\n",
       "    </tr>\n",
       "    <tr>\n",
       "      <th>1</th>\n",
       "      <td>813</td>\n",
       "      <td>1761</td>\n",
       "    </tr>\n",
       "    <tr>\n",
       "      <th>2</th>\n",
       "      <td>2980</td>\n",
       "      <td>1467</td>\n",
       "    </tr>\n",
       "    <tr>\n",
       "      <th>3</th>\n",
       "      <td>13</td>\n",
       "      <td>1203</td>\n",
       "    </tr>\n",
       "    <tr>\n",
       "      <th>4</th>\n",
       "      <td>2467</td>\n",
       "      <td>700</td>\n",
       "    </tr>\n",
       "  </tbody>\n",
       "</table>\n",
       "</div>"
      ],
      "text/plain": [
       "     id  object_img\n",
       "0   486        1202\n",
       "1   813        1761\n",
       "2  2980        1467\n",
       "3    13        1203\n",
       "4  2467         700"
      ]
     },
     "execution_count": 16,
     "metadata": {},
     "output_type": "execute_result"
    }
   ],
   "source": [
    "sub = pd.read_csv('final.csv')\n",
    "sub[['id', 'object_img']].head()"
   ]
  },
  {
   "cell_type": "markdown",
   "id": "44e9bc51",
   "metadata": {},
   "source": [
    "# 1. Избавление от дублей."
   ]
  },
  {
   "cell_type": "code",
   "execution_count": 17,
   "id": "77edbc7d",
   "metadata": {},
   "outputs": [
    {
     "data": {
      "text/html": [
       "<div>\n",
       "<style scoped>\n",
       "    .dataframe tbody tr th:only-of-type {\n",
       "        vertical-align: middle;\n",
       "    }\n",
       "\n",
       "    .dataframe tbody tr th {\n",
       "        vertical-align: top;\n",
       "    }\n",
       "\n",
       "    .dataframe thead th {\n",
       "        text-align: right;\n",
       "    }\n",
       "</style>\n",
       "<table border=\"1\" class=\"dataframe\">\n",
       "  <thead>\n",
       "    <tr style=\"text-align: right;\">\n",
       "      <th></th>\n",
       "      <th>id</th>\n",
       "      <th>object_img</th>\n",
       "    </tr>\n",
       "  </thead>\n",
       "  <tbody>\n",
       "    <tr>\n",
       "      <th>0</th>\n",
       "      <td>2059</td>\n",
       "      <td>0</td>\n",
       "    </tr>\n",
       "    <tr>\n",
       "      <th>1</th>\n",
       "      <td>30</td>\n",
       "      <td>84</td>\n",
       "    </tr>\n",
       "    <tr>\n",
       "      <th>2</th>\n",
       "      <td>264</td>\n",
       "      <td>89</td>\n",
       "    </tr>\n",
       "    <tr>\n",
       "      <th>3</th>\n",
       "      <td>1106</td>\n",
       "      <td>90</td>\n",
       "    </tr>\n",
       "    <tr>\n",
       "      <th>4</th>\n",
       "      <td>1776</td>\n",
       "      <td>93</td>\n",
       "    </tr>\n",
       "    <tr>\n",
       "      <th>...</th>\n",
       "      <td>...</td>\n",
       "      <td>...</td>\n",
       "    </tr>\n",
       "    <tr>\n",
       "      <th>895</th>\n",
       "      <td>1504</td>\n",
       "      <td>3041</td>\n",
       "    </tr>\n",
       "    <tr>\n",
       "      <th>896</th>\n",
       "      <td>843</td>\n",
       "      <td>3050</td>\n",
       "    </tr>\n",
       "    <tr>\n",
       "      <th>897</th>\n",
       "      <td>2824</td>\n",
       "      <td>3056</td>\n",
       "    </tr>\n",
       "    <tr>\n",
       "      <th>898</th>\n",
       "      <td>2226</td>\n",
       "      <td>3421</td>\n",
       "    </tr>\n",
       "    <tr>\n",
       "      <th>899</th>\n",
       "      <td>1481</td>\n",
       "      <td>3535</td>\n",
       "    </tr>\n",
       "  </tbody>\n",
       "</table>\n",
       "<p>900 rows × 2 columns</p>\n",
       "</div>"
      ],
      "text/plain": [
       "       id  object_img\n",
       "0    2059           0\n",
       "1      30          84\n",
       "2     264          89\n",
       "3    1106          90\n",
       "4    1776          93\n",
       "..    ...         ...\n",
       "895  1504        3041\n",
       "896   843        3050\n",
       "897  2824        3056\n",
       "898  2226        3421\n",
       "899  1481        3535\n",
       "\n",
       "[900 rows x 2 columns]"
      ]
     },
     "execution_count": 17,
     "metadata": {},
     "output_type": "execute_result"
    }
   ],
   "source": [
    "sub[target] = sub[target] - sub[target].min() # делаем все значения положительными в диапазоне от '0' и выше\n",
    "\n",
    "sub.sort_values(by = [target], inplace = True)\n",
    "sub.reset_index(drop = True, inplace = True)\n",
    "sub"
   ]
  },
  {
   "cell_type": "code",
   "execution_count": 18,
   "id": "dcff33b2",
   "metadata": {},
   "outputs": [
    {
     "data": {
      "text/plain": [
       "882     6\n",
       "2958    5\n",
       "2425    4\n",
       "2357    4\n",
       "1542    4\n",
       "       ..\n",
       "1104    1\n",
       "1109    1\n",
       "1111    1\n",
       "1114    1\n",
       "3535    1\n",
       "Name: object_img, Length: 750, dtype: int64"
      ]
     },
     "execution_count": 18,
     "metadata": {},
     "output_type": "execute_result"
    }
   ],
   "source": [
    "sub[target].value_counts() # количество дублей в решении"
   ]
  },
  {
   "cell_type": "code",
   "execution_count": 19,
   "id": "a93b4584",
   "metadata": {},
   "outputs": [
    {
     "data": {
      "text/plain": [
       "RangeIndex(start=0, stop=900, step=1)"
      ]
     },
     "execution_count": 19,
     "metadata": {},
     "output_type": "execute_result"
    }
   ],
   "source": [
    "sub.index"
   ]
  },
  {
   "cell_type": "code",
   "execution_count": 20,
   "id": "d599bdd2",
   "metadata": {},
   "outputs": [],
   "source": [
    "sub['object_img'] = sub['object_img'] + sub.index"
   ]
  },
  {
   "cell_type": "code",
   "execution_count": 21,
   "id": "71f9d0a1",
   "metadata": {},
   "outputs": [
    {
     "data": {
      "text/plain": [
       "0       1\n",
       "2546    1\n",
       "2695    1\n",
       "2697    1\n",
       "2699    1\n",
       "       ..\n",
       "1402    1\n",
       "1403    1\n",
       "1405    1\n",
       "1408    1\n",
       "4434    1\n",
       "Name: object_img, Length: 900, dtype: int64"
      ]
     },
     "execution_count": 21,
     "metadata": {},
     "output_type": "execute_result"
    }
   ],
   "source": [
    "sub['object_img'].value_counts()"
   ]
  },
  {
   "cell_type": "markdown",
   "id": "ef3a6d3e",
   "metadata": {},
   "source": [
    "# 2. Избавление от пересечения с тренировочными данными."
   ]
  },
  {
   "cell_type": "code",
   "execution_count": 22,
   "id": "edd312b6",
   "metadata": {},
   "outputs": [
    {
     "data": {
      "text/html": [
       "<div>\n",
       "<style scoped>\n",
       "    .dataframe tbody tr th:only-of-type {\n",
       "        vertical-align: middle;\n",
       "    }\n",
       "\n",
       "    .dataframe tbody tr th {\n",
       "        vertical-align: top;\n",
       "    }\n",
       "\n",
       "    .dataframe thead th {\n",
       "        text-align: right;\n",
       "    }\n",
       "</style>\n",
       "<table border=\"1\" class=\"dataframe\">\n",
       "  <thead>\n",
       "    <tr style=\"text-align: right;\">\n",
       "      <th></th>\n",
       "      <th>id</th>\n",
       "      <th>object_img</th>\n",
       "    </tr>\n",
       "  </thead>\n",
       "  <tbody>\n",
       "    <tr>\n",
       "      <th>2</th>\n",
       "      <td>264</td>\n",
       "      <td>91</td>\n",
       "    </tr>\n",
       "    <tr>\n",
       "      <th>3</th>\n",
       "      <td>1106</td>\n",
       "      <td>93</td>\n",
       "    </tr>\n",
       "    <tr>\n",
       "      <th>4</th>\n",
       "      <td>1776</td>\n",
       "      <td>97</td>\n",
       "    </tr>\n",
       "    <tr>\n",
       "      <th>5</th>\n",
       "      <td>832</td>\n",
       "      <td>117</td>\n",
       "    </tr>\n",
       "    <tr>\n",
       "      <th>6</th>\n",
       "      <td>142</td>\n",
       "      <td>124</td>\n",
       "    </tr>\n",
       "    <tr>\n",
       "      <th>...</th>\n",
       "      <td>...</td>\n",
       "      <td>...</td>\n",
       "    </tr>\n",
       "    <tr>\n",
       "      <th>660</th>\n",
       "      <td>461</td>\n",
       "      <td>2961</td>\n",
       "    </tr>\n",
       "    <tr>\n",
       "      <th>663</th>\n",
       "      <td>440</td>\n",
       "      <td>2978</td>\n",
       "    </tr>\n",
       "    <tr>\n",
       "      <th>664</th>\n",
       "      <td>2381</td>\n",
       "      <td>2981</td>\n",
       "    </tr>\n",
       "    <tr>\n",
       "      <th>665</th>\n",
       "      <td>756</td>\n",
       "      <td>2987</td>\n",
       "    </tr>\n",
       "    <tr>\n",
       "      <th>668</th>\n",
       "      <td>1611</td>\n",
       "      <td>2997</td>\n",
       "    </tr>\n",
       "  </tbody>\n",
       "</table>\n",
       "<p>458 rows × 2 columns</p>\n",
       "</div>"
      ],
      "text/plain": [
       "       id  object_img\n",
       "2     264          91\n",
       "3    1106          93\n",
       "4    1776          97\n",
       "5     832         117\n",
       "6     142         124\n",
       "..    ...         ...\n",
       "660   461        2961\n",
       "663   440        2978\n",
       "664  2381        2981\n",
       "665   756        2987\n",
       "668  1611        2997\n",
       "\n",
       "[458 rows x 2 columns]"
      ]
     },
     "execution_count": 22,
     "metadata": {},
     "output_type": "execute_result"
    }
   ],
   "source": [
    "sub[sub['object_img'].isin(dtrain['object_img'])] # пересечения"
   ]
  },
  {
   "cell_type": "markdown",
   "id": "1cdd8eed",
   "metadata": {},
   "source": [
    "# Процесс удаления пересечений"
   ]
  },
  {
   "cell_type": "code",
   "execution_count": 24,
   "id": "90f4d373",
   "metadata": {},
   "outputs": [
    {
     "name": "stderr",
     "output_type": "stream",
     "text": [
      "100%|█████████████████████████████████████████████| 900/900 [01:20<00:00, 11.23it/s]\n"
     ]
    }
   ],
   "source": [
    "for i in tqdm.tqdm(sub.index):\n",
    "    img = sub.loc[i, 'object_img']\n",
    "    if img in dtrain['object_img'].unique():\n",
    "        \n",
    "        for y in range(2500):\n",
    "            img2 = img - y\n",
    "            if (img2 not in dtrain['object_img'].unique()) and (img2 not in sub['object_img'].unique()):\n",
    "                if img2 > 0:\n",
    "                    sub.loc[i, 'object_img'] = img2"
   ]
  },
  {
   "cell_type": "code",
   "execution_count": 25,
   "id": "d7bcbb84",
   "metadata": {},
   "outputs": [
    {
     "data": {
      "text/html": [
       "<div>\n",
       "<style scoped>\n",
       "    .dataframe tbody tr th:only-of-type {\n",
       "        vertical-align: middle;\n",
       "    }\n",
       "\n",
       "    .dataframe tbody tr th {\n",
       "        vertical-align: top;\n",
       "    }\n",
       "\n",
       "    .dataframe thead th {\n",
       "        text-align: right;\n",
       "    }\n",
       "</style>\n",
       "<table border=\"1\" class=\"dataframe\">\n",
       "  <thead>\n",
       "    <tr style=\"text-align: right;\">\n",
       "      <th></th>\n",
       "      <th>id</th>\n",
       "      <th>object_img</th>\n",
       "    </tr>\n",
       "  </thead>\n",
       "  <tbody>\n",
       "  </tbody>\n",
       "</table>\n",
       "</div>"
      ],
      "text/plain": [
       "Empty DataFrame\n",
       "Columns: [id, object_img]\n",
       "Index: []"
      ]
     },
     "execution_count": 25,
     "metadata": {},
     "output_type": "execute_result"
    }
   ],
   "source": [
    "sub[sub['object_img'].isin(dtrain['object_img'])] # проверяю на дубли"
   ]
  },
  {
   "cell_type": "code",
   "execution_count": 26,
   "id": "23debba5",
   "metadata": {},
   "outputs": [
    {
     "data": {
      "text/plain": [
       "0       1\n",
       "1731    1\n",
       "2695    1\n",
       "1816    1\n",
       "2699    1\n",
       "       ..\n",
       "925     1\n",
       "926     1\n",
       "928     1\n",
       "930     1\n",
       "4434    1\n",
       "Name: object_img, Length: 900, dtype: int64"
      ]
     },
     "execution_count": 26,
     "metadata": {},
     "output_type": "execute_result"
    }
   ],
   "source": [
    "sub['object_img'].value_counts() # проверяю на пересечения"
   ]
  },
  {
   "cell_type": "code",
   "execution_count": 27,
   "id": "6eebeeb1",
   "metadata": {},
   "outputs": [
    {
     "data": {
      "text/html": [
       "<div>\n",
       "<style scoped>\n",
       "    .dataframe tbody tr th:only-of-type {\n",
       "        vertical-align: middle;\n",
       "    }\n",
       "\n",
       "    .dataframe tbody tr th {\n",
       "        vertical-align: top;\n",
       "    }\n",
       "\n",
       "    .dataframe thead th {\n",
       "        text-align: right;\n",
       "    }\n",
       "</style>\n",
       "<table border=\"1\" class=\"dataframe\">\n",
       "  <thead>\n",
       "    <tr style=\"text-align: right;\">\n",
       "      <th></th>\n",
       "      <th>id</th>\n",
       "      <th>object_img</th>\n",
       "    </tr>\n",
       "  </thead>\n",
       "  <tbody>\n",
       "    <tr>\n",
       "      <th>0</th>\n",
       "      <td>2059</td>\n",
       "      <td>0</td>\n",
       "    </tr>\n",
       "    <tr>\n",
       "      <th>1</th>\n",
       "      <td>30</td>\n",
       "      <td>85</td>\n",
       "    </tr>\n",
       "    <tr>\n",
       "      <th>2</th>\n",
       "      <td>264</td>\n",
       "      <td>8</td>\n",
       "    </tr>\n",
       "    <tr>\n",
       "      <th>3</th>\n",
       "      <td>1106</td>\n",
       "      <td>9</td>\n",
       "    </tr>\n",
       "    <tr>\n",
       "      <th>4</th>\n",
       "      <td>1776</td>\n",
       "      <td>11</td>\n",
       "    </tr>\n",
       "    <tr>\n",
       "      <th>...</th>\n",
       "      <td>...</td>\n",
       "      <td>...</td>\n",
       "    </tr>\n",
       "    <tr>\n",
       "      <th>895</th>\n",
       "      <td>1504</td>\n",
       "      <td>3936</td>\n",
       "    </tr>\n",
       "    <tr>\n",
       "      <th>896</th>\n",
       "      <td>843</td>\n",
       "      <td>3946</td>\n",
       "    </tr>\n",
       "    <tr>\n",
       "      <th>897</th>\n",
       "      <td>2824</td>\n",
       "      <td>3953</td>\n",
       "    </tr>\n",
       "    <tr>\n",
       "      <th>898</th>\n",
       "      <td>2226</td>\n",
       "      <td>4319</td>\n",
       "    </tr>\n",
       "    <tr>\n",
       "      <th>899</th>\n",
       "      <td>1481</td>\n",
       "      <td>4434</td>\n",
       "    </tr>\n",
       "  </tbody>\n",
       "</table>\n",
       "<p>900 rows × 2 columns</p>\n",
       "</div>"
      ],
      "text/plain": [
       "       id  object_img\n",
       "0    2059           0\n",
       "1      30          85\n",
       "2     264           8\n",
       "3    1106           9\n",
       "4    1776          11\n",
       "..    ...         ...\n",
       "895  1504        3936\n",
       "896   843        3946\n",
       "897  2824        3953\n",
       "898  2226        4319\n",
       "899  1481        4434\n",
       "\n",
       "[900 rows x 2 columns]"
      ]
     },
     "execution_count": 27,
     "metadata": {},
     "output_type": "execute_result"
    }
   ],
   "source": [
    "sub"
   ]
  },
  {
   "cell_type": "code",
   "execution_count": 28,
   "id": "721c13e9",
   "metadata": {},
   "outputs": [],
   "source": [
    "sub[['id', 'object_img']].to_csv('final2.csv', index = False)"
   ]
  },
  {
   "cell_type": "code",
   "execution_count": 29,
   "id": "bf994875",
   "metadata": {},
   "outputs": [],
   "source": [
    "# 0.650572"
   ]
  },
  {
   "cell_type": "code",
   "execution_count": null,
   "id": "89cd15b2",
   "metadata": {},
   "outputs": [],
   "source": []
  },
  {
   "cell_type": "markdown",
   "id": "c06fdcb3",
   "metadata": {},
   "source": [
    "https://lk.hacks-ai.ru/758290/champ"
   ]
  }
 ],
 "metadata": {
  "kernelspec": {
   "display_name": "Python 3 (ipykernel)",
   "language": "python",
   "name": "python3"
  },
  "language_info": {
   "codemirror_mode": {
    "name": "ipython",
    "version": 3
   },
   "file_extension": ".py",
   "mimetype": "text/x-python",
   "name": "python",
   "nbconvert_exporter": "python",
   "pygments_lexer": "ipython3",
   "version": "3.9.12"
  }
 },
 "nbformat": 4,
 "nbformat_minor": 5
}
